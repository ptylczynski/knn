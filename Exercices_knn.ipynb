{
 "cells": [
  {
   "cell_type": "markdown",
   "metadata": {},
   "source": [
    "# 1. K-NN classifier\n",
    "\n",
    "**Question** How does the k-nn algorithm work?\n",
    "\n",
    "**Question** What are the parameters we need to choose to classify with k-NN? How can we choose them\n",
    "\n",
    "**Question** What are the advantages and disadvantages of this algorithm? For which kind of dataset it would be appropriate and for which datasets it wouldn't?\n",
    "\n",
    "**Question** How can we deal with nominal values in distance measurement?\n"
   ]
  },
  {
   "cell_type": "markdown",
   "metadata": {},
   "source": [
    "In further part of the laboratory, we will perform a preprocessing of the data and a classification of a set of biomedical voice measurements. Some of them has been recorded for people with Parkinson's desease.\n",
    "\n",
    "More about the dataset: https://archive.ics.uci.edu/ml/datasets/parkinsons\n",
    "\n",
    "First, we load the required packages:"
   ]
  },
  {
   "cell_type": "code",
   "execution_count": 2,
   "metadata": {},
   "outputs": [],
   "source": [
    "import pandas as pd\n",
    "from sklearn.feature_selection import SelectKBest, chi2, mutual_info_classif, f_classif\n",
    "from sklearn.model_selection import train_test_split\n",
    "from sklearn.neighbors import KNeighborsClassifier\n",
    "from sklearn import metrics\n",
    "from sklearn import preprocessing\n",
    "import matplotlib.pyplot as plt\n",
    "import copy"
   ]
  },
  {
   "cell_type": "markdown",
   "metadata": {},
   "source": [
    "# 2. Data loading and analysis of the attributes\n",
    "Let's start with the data preparation, \n",
    "#### 2.1. Load the dataset from file parkinsons.csv into data frame using library pandas (pd.read_csv). Write the body of the read_data function to return a data frame with attributes and a list with class labels. Classes are available in 'status' column. You should also remove column 'name' from the data (see function drop of dataFrame https://pandas.pydata.org/pandas-docs/stable/reference/api/pandas.DataFrame.drop.html)."
   ]
  },
  {
   "cell_type": "code",
   "execution_count": 8,
   "metadata": {},
   "outputs": [],
   "source": [
    "def read_data(path):\n",
    "    df = pd.read_csv(path)\n",
    "    dx = df.drop(columns=['status'])\n",
    "    dx.drop(columns='name', inplace=True)\n",
    "    return dx, df.loc[:,'status']\n",
    "\n",
    "data_X, data_Y = read_data(\"parkinsons.data\")"
   ]
  },
  {
   "cell_type": "markdown",
   "metadata": {},
   "source": [
    "Let's see what we have loaded."
   ]
  },
  {
   "cell_type": "code",
   "execution_count": 9,
   "metadata": {},
   "outputs": [
    {
     "data": {
      "text/plain": "   MDVP:Fo(Hz)  MDVP:Fhi(Hz)  MDVP:Flo(Hz)  MDVP:Jitter(%)  MDVP:Jitter(Abs)  \\\n0      119.992       157.302        74.997         0.00784           0.00007   \n1      122.400       148.650       113.819         0.00968           0.00008   \n2      116.682       131.111       111.555         0.01050           0.00009   \n3      116.676       137.871       111.366         0.00997           0.00009   \n4      116.014       141.781       110.655         0.01284           0.00011   \n\n   MDVP:RAP  MDVP:PPQ  Jitter:DDP  MDVP:Shimmer  MDVP:Shimmer(dB)  ...  \\\n0   0.00370   0.00554     0.01109       0.04374             0.426  ...   \n1   0.00465   0.00696     0.01394       0.06134             0.626  ...   \n2   0.00544   0.00781     0.01633       0.05233             0.482  ...   \n3   0.00502   0.00698     0.01505       0.05492             0.517  ...   \n4   0.00655   0.00908     0.01966       0.06425             0.584  ...   \n\n   MDVP:APQ  Shimmer:DDA      NHR     HNR      RPDE       DFA   spread1  \\\n0   0.02971      0.06545  0.02211  21.033  0.414783  0.815285 -4.813031   \n1   0.04368      0.09403  0.01929  19.085  0.458359  0.819521 -4.075192   \n2   0.03590      0.08270  0.01309  20.651  0.429895  0.825288 -4.443179   \n3   0.03772      0.08771  0.01353  20.644  0.434969  0.819235 -4.117501   \n4   0.04465      0.10470  0.01767  19.649  0.417356  0.823484 -3.747787   \n\n    spread2        D2       PPE  \n0  0.266482  2.301442  0.284654  \n1  0.335590  2.486855  0.368674  \n2  0.311173  2.342259  0.332634  \n3  0.334147  2.405554  0.368975  \n4  0.234513  2.332180  0.410335  \n\n[5 rows x 22 columns]",
      "text/html": "<div>\n<style scoped>\n    .dataframe tbody tr th:only-of-type {\n        vertical-align: middle;\n    }\n\n    .dataframe tbody tr th {\n        vertical-align: top;\n    }\n\n    .dataframe thead th {\n        text-align: right;\n    }\n</style>\n<table border=\"1\" class=\"dataframe\">\n  <thead>\n    <tr style=\"text-align: right;\">\n      <th></th>\n      <th>MDVP:Fo(Hz)</th>\n      <th>MDVP:Fhi(Hz)</th>\n      <th>MDVP:Flo(Hz)</th>\n      <th>MDVP:Jitter(%)</th>\n      <th>MDVP:Jitter(Abs)</th>\n      <th>MDVP:RAP</th>\n      <th>MDVP:PPQ</th>\n      <th>Jitter:DDP</th>\n      <th>MDVP:Shimmer</th>\n      <th>MDVP:Shimmer(dB)</th>\n      <th>...</th>\n      <th>MDVP:APQ</th>\n      <th>Shimmer:DDA</th>\n      <th>NHR</th>\n      <th>HNR</th>\n      <th>RPDE</th>\n      <th>DFA</th>\n      <th>spread1</th>\n      <th>spread2</th>\n      <th>D2</th>\n      <th>PPE</th>\n    </tr>\n  </thead>\n  <tbody>\n    <tr>\n      <th>0</th>\n      <td>119.992</td>\n      <td>157.302</td>\n      <td>74.997</td>\n      <td>0.00784</td>\n      <td>0.00007</td>\n      <td>0.00370</td>\n      <td>0.00554</td>\n      <td>0.01109</td>\n      <td>0.04374</td>\n      <td>0.426</td>\n      <td>...</td>\n      <td>0.02971</td>\n      <td>0.06545</td>\n      <td>0.02211</td>\n      <td>21.033</td>\n      <td>0.414783</td>\n      <td>0.815285</td>\n      <td>-4.813031</td>\n      <td>0.266482</td>\n      <td>2.301442</td>\n      <td>0.284654</td>\n    </tr>\n    <tr>\n      <th>1</th>\n      <td>122.400</td>\n      <td>148.650</td>\n      <td>113.819</td>\n      <td>0.00968</td>\n      <td>0.00008</td>\n      <td>0.00465</td>\n      <td>0.00696</td>\n      <td>0.01394</td>\n      <td>0.06134</td>\n      <td>0.626</td>\n      <td>...</td>\n      <td>0.04368</td>\n      <td>0.09403</td>\n      <td>0.01929</td>\n      <td>19.085</td>\n      <td>0.458359</td>\n      <td>0.819521</td>\n      <td>-4.075192</td>\n      <td>0.335590</td>\n      <td>2.486855</td>\n      <td>0.368674</td>\n    </tr>\n    <tr>\n      <th>2</th>\n      <td>116.682</td>\n      <td>131.111</td>\n      <td>111.555</td>\n      <td>0.01050</td>\n      <td>0.00009</td>\n      <td>0.00544</td>\n      <td>0.00781</td>\n      <td>0.01633</td>\n      <td>0.05233</td>\n      <td>0.482</td>\n      <td>...</td>\n      <td>0.03590</td>\n      <td>0.08270</td>\n      <td>0.01309</td>\n      <td>20.651</td>\n      <td>0.429895</td>\n      <td>0.825288</td>\n      <td>-4.443179</td>\n      <td>0.311173</td>\n      <td>2.342259</td>\n      <td>0.332634</td>\n    </tr>\n    <tr>\n      <th>3</th>\n      <td>116.676</td>\n      <td>137.871</td>\n      <td>111.366</td>\n      <td>0.00997</td>\n      <td>0.00009</td>\n      <td>0.00502</td>\n      <td>0.00698</td>\n      <td>0.01505</td>\n      <td>0.05492</td>\n      <td>0.517</td>\n      <td>...</td>\n      <td>0.03772</td>\n      <td>0.08771</td>\n      <td>0.01353</td>\n      <td>20.644</td>\n      <td>0.434969</td>\n      <td>0.819235</td>\n      <td>-4.117501</td>\n      <td>0.334147</td>\n      <td>2.405554</td>\n      <td>0.368975</td>\n    </tr>\n    <tr>\n      <th>4</th>\n      <td>116.014</td>\n      <td>141.781</td>\n      <td>110.655</td>\n      <td>0.01284</td>\n      <td>0.00011</td>\n      <td>0.00655</td>\n      <td>0.00908</td>\n      <td>0.01966</td>\n      <td>0.06425</td>\n      <td>0.584</td>\n      <td>...</td>\n      <td>0.04465</td>\n      <td>0.10470</td>\n      <td>0.01767</td>\n      <td>19.649</td>\n      <td>0.417356</td>\n      <td>0.823484</td>\n      <td>-3.747787</td>\n      <td>0.234513</td>\n      <td>2.332180</td>\n      <td>0.410335</td>\n    </tr>\n  </tbody>\n</table>\n<p>5 rows × 22 columns</p>\n</div>"
     },
     "execution_count": 9,
     "metadata": {},
     "output_type": "execute_result"
    }
   ],
   "source": [
    "data_X.head()"
   ]
  },
  {
   "cell_type": "code",
   "execution_count": 10,
   "metadata": {},
   "outputs": [
    {
     "data": {
      "text/plain": "0      1\n1      1\n2      1\n3      1\n4      1\n      ..\n190    0\n191    0\n192    0\n193    0\n194    0\nName: status, Length: 195, dtype: int64"
     },
     "execution_count": 10,
     "metadata": {},
     "output_type": "execute_result"
    }
   ],
   "source": [
    "data_Y"
   ]
  },
  {
   "cell_type": "markdown",
   "metadata": {},
   "source": [
    "#### 1.2. Let's analyse the given data. \n",
    "* How many attributes are in given data?"
   ]
  },
  {
   "cell_type": "code",
   "execution_count": 14,
   "outputs": [
    {
     "name": "stdout",
     "output_type": "stream",
     "text": [
      "Attributes:  22\n"
     ]
    }
   ],
   "source": [
    "print('Attributes: ', data_X.shape[1])"
   ],
   "metadata": {
    "collapsed": false,
    "pycharm": {
     "name": "#%%\n"
    }
   }
  },
  {
   "cell_type": "markdown",
   "source": [
    "* Are the attributes on the common scale?\n",
    "\n",
    "*No, they are not*"
   ],
   "metadata": {
    "collapsed": false,
    "pycharm": {
     "name": "#%% md\n"
    }
   }
  },
  {
   "cell_type": "code",
   "execution_count": 15,
   "outputs": [
    {
     "data": {
      "text/plain": "       MDVP:Fo(Hz)  MDVP:Fhi(Hz)  MDVP:Flo(Hz)  MDVP:Jitter(%)  \\\ncount   195.000000    195.000000    195.000000      195.000000   \nmean    154.228641    197.104918    116.324631        0.006220   \nstd      41.390065     91.491548     43.521413        0.004848   \nmin      88.333000    102.145000     65.476000        0.001680   \n25%     117.572000    134.862500     84.291000        0.003460   \n50%     148.790000    175.829000    104.315000        0.004940   \n75%     182.769000    224.205500    140.018500        0.007365   \nmax     260.105000    592.030000    239.170000        0.033160   \n\n       MDVP:Jitter(Abs)    MDVP:RAP    MDVP:PPQ  Jitter:DDP  MDVP:Shimmer  \\\ncount        195.000000  195.000000  195.000000  195.000000    195.000000   \nmean           0.000044    0.003306    0.003446    0.009920      0.029709   \nstd            0.000035    0.002968    0.002759    0.008903      0.018857   \nmin            0.000007    0.000680    0.000920    0.002040      0.009540   \n25%            0.000020    0.001660    0.001860    0.004985      0.016505   \n50%            0.000030    0.002500    0.002690    0.007490      0.022970   \n75%            0.000060    0.003835    0.003955    0.011505      0.037885   \nmax            0.000260    0.021440    0.019580    0.064330      0.119080   \n\n       MDVP:Shimmer(dB)  ...    MDVP:APQ  Shimmer:DDA         NHR         HNR  \\\ncount        195.000000  ...  195.000000   195.000000  195.000000  195.000000   \nmean           0.282251  ...    0.024081     0.046993    0.024847   21.885974   \nstd            0.194877  ...    0.016947     0.030459    0.040418    4.425764   \nmin            0.085000  ...    0.007190     0.013640    0.000650    8.441000   \n25%            0.148500  ...    0.013080     0.024735    0.005925   19.198000   \n50%            0.221000  ...    0.018260     0.038360    0.011660   22.085000   \n75%            0.350000  ...    0.029400     0.060795    0.025640   25.075500   \nmax            1.302000  ...    0.137780     0.169420    0.314820   33.047000   \n\n             RPDE         DFA     spread1     spread2          D2         PPE  \ncount  195.000000  195.000000  195.000000  195.000000  195.000000  195.000000  \nmean     0.498536    0.718099   -5.684397    0.226510    2.381826    0.206552  \nstd      0.103942    0.055336    1.090208    0.083406    0.382799    0.090119  \nmin      0.256570    0.574282   -7.964984    0.006274    1.423287    0.044539  \n25%      0.421306    0.674758   -6.450096    0.174351    2.099125    0.137451  \n50%      0.495954    0.722254   -5.720868    0.218885    2.361532    0.194052  \n75%      0.587562    0.761881   -5.046192    0.279234    2.636456    0.252980  \nmax      0.685151    0.825288   -2.434031    0.450493    3.671155    0.527367  \n\n[8 rows x 22 columns]",
      "text/html": "<div>\n<style scoped>\n    .dataframe tbody tr th:only-of-type {\n        vertical-align: middle;\n    }\n\n    .dataframe tbody tr th {\n        vertical-align: top;\n    }\n\n    .dataframe thead th {\n        text-align: right;\n    }\n</style>\n<table border=\"1\" class=\"dataframe\">\n  <thead>\n    <tr style=\"text-align: right;\">\n      <th></th>\n      <th>MDVP:Fo(Hz)</th>\n      <th>MDVP:Fhi(Hz)</th>\n      <th>MDVP:Flo(Hz)</th>\n      <th>MDVP:Jitter(%)</th>\n      <th>MDVP:Jitter(Abs)</th>\n      <th>MDVP:RAP</th>\n      <th>MDVP:PPQ</th>\n      <th>Jitter:DDP</th>\n      <th>MDVP:Shimmer</th>\n      <th>MDVP:Shimmer(dB)</th>\n      <th>...</th>\n      <th>MDVP:APQ</th>\n      <th>Shimmer:DDA</th>\n      <th>NHR</th>\n      <th>HNR</th>\n      <th>RPDE</th>\n      <th>DFA</th>\n      <th>spread1</th>\n      <th>spread2</th>\n      <th>D2</th>\n      <th>PPE</th>\n    </tr>\n  </thead>\n  <tbody>\n    <tr>\n      <th>count</th>\n      <td>195.000000</td>\n      <td>195.000000</td>\n      <td>195.000000</td>\n      <td>195.000000</td>\n      <td>195.000000</td>\n      <td>195.000000</td>\n      <td>195.000000</td>\n      <td>195.000000</td>\n      <td>195.000000</td>\n      <td>195.000000</td>\n      <td>...</td>\n      <td>195.000000</td>\n      <td>195.000000</td>\n      <td>195.000000</td>\n      <td>195.000000</td>\n      <td>195.000000</td>\n      <td>195.000000</td>\n      <td>195.000000</td>\n      <td>195.000000</td>\n      <td>195.000000</td>\n      <td>195.000000</td>\n    </tr>\n    <tr>\n      <th>mean</th>\n      <td>154.228641</td>\n      <td>197.104918</td>\n      <td>116.324631</td>\n      <td>0.006220</td>\n      <td>0.000044</td>\n      <td>0.003306</td>\n      <td>0.003446</td>\n      <td>0.009920</td>\n      <td>0.029709</td>\n      <td>0.282251</td>\n      <td>...</td>\n      <td>0.024081</td>\n      <td>0.046993</td>\n      <td>0.024847</td>\n      <td>21.885974</td>\n      <td>0.498536</td>\n      <td>0.718099</td>\n      <td>-5.684397</td>\n      <td>0.226510</td>\n      <td>2.381826</td>\n      <td>0.206552</td>\n    </tr>\n    <tr>\n      <th>std</th>\n      <td>41.390065</td>\n      <td>91.491548</td>\n      <td>43.521413</td>\n      <td>0.004848</td>\n      <td>0.000035</td>\n      <td>0.002968</td>\n      <td>0.002759</td>\n      <td>0.008903</td>\n      <td>0.018857</td>\n      <td>0.194877</td>\n      <td>...</td>\n      <td>0.016947</td>\n      <td>0.030459</td>\n      <td>0.040418</td>\n      <td>4.425764</td>\n      <td>0.103942</td>\n      <td>0.055336</td>\n      <td>1.090208</td>\n      <td>0.083406</td>\n      <td>0.382799</td>\n      <td>0.090119</td>\n    </tr>\n    <tr>\n      <th>min</th>\n      <td>88.333000</td>\n      <td>102.145000</td>\n      <td>65.476000</td>\n      <td>0.001680</td>\n      <td>0.000007</td>\n      <td>0.000680</td>\n      <td>0.000920</td>\n      <td>0.002040</td>\n      <td>0.009540</td>\n      <td>0.085000</td>\n      <td>...</td>\n      <td>0.007190</td>\n      <td>0.013640</td>\n      <td>0.000650</td>\n      <td>8.441000</td>\n      <td>0.256570</td>\n      <td>0.574282</td>\n      <td>-7.964984</td>\n      <td>0.006274</td>\n      <td>1.423287</td>\n      <td>0.044539</td>\n    </tr>\n    <tr>\n      <th>25%</th>\n      <td>117.572000</td>\n      <td>134.862500</td>\n      <td>84.291000</td>\n      <td>0.003460</td>\n      <td>0.000020</td>\n      <td>0.001660</td>\n      <td>0.001860</td>\n      <td>0.004985</td>\n      <td>0.016505</td>\n      <td>0.148500</td>\n      <td>...</td>\n      <td>0.013080</td>\n      <td>0.024735</td>\n      <td>0.005925</td>\n      <td>19.198000</td>\n      <td>0.421306</td>\n      <td>0.674758</td>\n      <td>-6.450096</td>\n      <td>0.174351</td>\n      <td>2.099125</td>\n      <td>0.137451</td>\n    </tr>\n    <tr>\n      <th>50%</th>\n      <td>148.790000</td>\n      <td>175.829000</td>\n      <td>104.315000</td>\n      <td>0.004940</td>\n      <td>0.000030</td>\n      <td>0.002500</td>\n      <td>0.002690</td>\n      <td>0.007490</td>\n      <td>0.022970</td>\n      <td>0.221000</td>\n      <td>...</td>\n      <td>0.018260</td>\n      <td>0.038360</td>\n      <td>0.011660</td>\n      <td>22.085000</td>\n      <td>0.495954</td>\n      <td>0.722254</td>\n      <td>-5.720868</td>\n      <td>0.218885</td>\n      <td>2.361532</td>\n      <td>0.194052</td>\n    </tr>\n    <tr>\n      <th>75%</th>\n      <td>182.769000</td>\n      <td>224.205500</td>\n      <td>140.018500</td>\n      <td>0.007365</td>\n      <td>0.000060</td>\n      <td>0.003835</td>\n      <td>0.003955</td>\n      <td>0.011505</td>\n      <td>0.037885</td>\n      <td>0.350000</td>\n      <td>...</td>\n      <td>0.029400</td>\n      <td>0.060795</td>\n      <td>0.025640</td>\n      <td>25.075500</td>\n      <td>0.587562</td>\n      <td>0.761881</td>\n      <td>-5.046192</td>\n      <td>0.279234</td>\n      <td>2.636456</td>\n      <td>0.252980</td>\n    </tr>\n    <tr>\n      <th>max</th>\n      <td>260.105000</td>\n      <td>592.030000</td>\n      <td>239.170000</td>\n      <td>0.033160</td>\n      <td>0.000260</td>\n      <td>0.021440</td>\n      <td>0.019580</td>\n      <td>0.064330</td>\n      <td>0.119080</td>\n      <td>1.302000</td>\n      <td>...</td>\n      <td>0.137780</td>\n      <td>0.169420</td>\n      <td>0.314820</td>\n      <td>33.047000</td>\n      <td>0.685151</td>\n      <td>0.825288</td>\n      <td>-2.434031</td>\n      <td>0.450493</td>\n      <td>3.671155</td>\n      <td>0.527367</td>\n    </tr>\n  </tbody>\n</table>\n<p>8 rows × 22 columns</p>\n</div>"
     },
     "execution_count": 15,
     "metadata": {},
     "output_type": "execute_result"
    }
   ],
   "source": [
    "data_X.describe()"
   ],
   "metadata": {
    "collapsed": false,
    "pycharm": {
     "name": "#%%\n"
    }
   }
  },
  {
   "cell_type": "markdown",
   "source": [
    "* Are observations equally distributed for sick and healthy people?\n",
    "\n",
    "*No, they are not*"
   ],
   "metadata": {
    "collapsed": false,
    "pycharm": {
     "name": "#%% md\n"
    }
   }
  },
  {
   "cell_type": "code",
   "execution_count": 20,
   "outputs": [
    {
     "name": "stdout",
     "output_type": "stream",
     "text": [
      "147\n",
      "48\n"
     ]
    }
   ],
   "source": [
    "df = pd.read_csv('parkinsons.data')\n",
    "print(df[df.status==1].shape[0])\n",
    "print(df[df.status==0].shape[0])"
   ],
   "metadata": {
    "collapsed": false,
    "pycharm": {
     "name": "#%%\n"
    }
   }
  },
  {
   "cell_type": "markdown",
   "source": [
    "Plot the histogram of the assigned class and analyse the distribution.\n"
   ],
   "metadata": {
    "collapsed": false,
    "pycharm": {
     "name": "#%% md\n"
    }
   }
  },
  {
   "cell_type": "code",
   "execution_count": 21,
   "metadata": {},
   "outputs": [
    {
     "data": {
      "text/plain": "(array([ 48.,   0.,   0.,   0.,   0.,   0.,   0.,   0.,   0., 147.]),\n array([0. , 0.1, 0.2, 0.3, 0.4, 0.5, 0.6, 0.7, 0.8, 0.9, 1. ]),\n <BarContainer object of 10 artists>)"
     },
     "execution_count": 21,
     "metadata": {},
     "output_type": "execute_result"
    },
    {
     "data": {
      "text/plain": "<Figure size 432x288 with 1 Axes>",
      "image/png": "[encoded data removed]"
     },
     "metadata": {
      "needs_background": "light"
     },
     "output_type": "display_data"
    }
   ],
   "source": [
    "plt.hist(data_Y)"
   ]
  },
  {
   "cell_type": "markdown",
   "metadata": {},
   "source": [
    "Plot the histograms of the first 5 attributes. "
   ]
  },
  {
   "cell_type": "code",
   "execution_count": 24,
   "metadata": {},
   "outputs": [
    {
     "data": {
      "text/plain": "<Figure size 432x288 with 1 Axes>",
      "image/png": "[encoded data removed]"
     },
     "metadata": {
      "needs_background": "light"
     },
     "output_type": "display_data"
    },
    {
     "data": {
      "text/plain": "<Figure size 432x288 with 1 Axes>",
      "image/png": "[encoded data removed]"
     },
     "metadata": {
      "needs_background": "light"
     },
     "output_type": "display_data"
    },
    {
     "data": {
      "text/plain": "<Figure size 432x288 with 1 Axes>",
      "image/png": "[encoded data removed]"
     },
     "metadata": {
      "needs_background": "light"
     },
     "output_type": "display_data"
    },
    {
     "data": {
      "text/plain": "<Figure size 432x288 with 1 Axes>",
      "image/png": "[encoded data removed]"
     },
     "metadata": {
      "needs_background": "light"
     },
     "output_type": "display_data"
    },
    {
     "data": {
      "text/plain": "<Figure size 432x288 with 1 Axes>",
      "image/png": "[encoded data removed]"
     },
     "metadata": {
      "needs_background": "light"
     },
     "output_type": "display_data"
    }
   ],
   "source": [
    "for i in range(5):\n",
    "    f = plt.figure()\n",
    "    ax = f.add_axes([0,0,1,1])\n",
    "    ax.hist(data_X.iloc[:, i])\n",
    "    ax.set_title(data_X.columns[i])"
   ]
  },
  {
   "cell_type": "markdown",
   "metadata": {},
   "source": [
    "# 3. Train and test set selection\n",
    "\n",
    "#### We want to build our classifier and test it on another set of observations.\n",
    "\n",
    "To split data into train and test sets use train_test_split method from sklearn.model_selection module (https://scikit-learn.org/stable/modules/generated/sklearn.model_selection.train_test_split.html). Use 80% of cases in train set and 20% in test set. \n",
    "Use random_state = 5 just to be sure we all have the same rows in train and test sets :)\n",
    "\n",
    "split_data should return a tuple containing: dataframe with train set attributes, list of labels for train data, dataframe with test set attributes and a list of labels for test data."
   ]
  },
  {
   "cell_type": "code",
   "execution_count": 25,
   "metadata": {},
   "outputs": [
    {
     "name": "stdout",
     "output_type": "stream",
     "text": [
      "rows in train set:  156\n",
      "rows in test set: 39\n"
     ]
    }
   ],
   "source": [
    "def split_data(data_X, data_Y, test_percent = 20, random_state=5):\n",
    "    X_train, X_test, Y_train, Y_test = train_test_split(data_X, data_Y, test_size=test_percent / 100, random_state=random_state)\n",
    "    return X_train, Y_train, X_test, Y_test\n",
    "    \n",
    "(train_X, train_Y, test_X, test_Y) = split_data(data_X, data_Y)\n",
    "print(\"rows in train set: \", train_X.shape[0])\n",
    "print(\"rows in test set:\", test_X.shape[0])"
   ]
  },
  {
   "cell_type": "markdown",
   "metadata": {},
   "source": [
    "# 4. Data standarization/normalization\n",
    "#### 4.1. Use k-nn algorithm to classify the obtained test set using k=3. What is the accuracy of the classification?\n",
    "\n",
    "Use KNeighborsClassifier class from sklearn.neighbors module. Useful methods: fit and predict. Classification accuracy can be obtained with accuracy_score method from sklearn.metrics. Function get_classification_accuracy should return the accuracy of classification of given test set on model build with train set.\n",
    "\n",
    "https://scikit-learn.org/stable/modules/generated/sklearn.neighbors.KNeighborsClassifier.html"
   ]
  },
  {
   "cell_type": "code",
   "execution_count": 37,
   "metadata": {},
   "outputs": [
    {
     "data": {
      "text/plain": "0.7692307692307693"
     },
     "execution_count": 37,
     "metadata": {},
     "output_type": "execute_result"
    }
   ],
   "source": [
    "def get_classification_accuracy(train_data_X, train_data_Y, test_data_X, test_data_Y, k = 3):\n",
    "    neigh = KNeighborsClassifier(n_neighbors=k)\n",
    "    neigh.fit(train_data_X, train_data_Y)\n",
    "    pred = neigh.predict(test_data_X)\n",
    "    return metrics.accuracy_score(test_data_Y, pred)\n",
    "\n",
    "get_classification_accuracy(train_X, train_Y, test_X, test_Y)"
   ]
  },
  {
   "cell_type": "markdown",
   "metadata": {},
   "source": [
    "#### 4.2. Perform some normalization or standarization of attributes. Then repeat the classification. Do the classification accuracy change?\n",
    "\n",
    "You can use sklearn.preprocessing.StandardScaler, sklearn.preprocessing.MinMaxScaler or sklearn.preprocessing.MaxAbsScaler and their fit_transform/transform methods.\n",
    "\n",
    "Try other standarization methods to verify the standarization procedure influence the classification accuracy.\n",
    "standarize_train_and_test should return 2 dataFrames - with normalized train and normalized test sets."
   ]
  },
  {
   "cell_type": "code",
   "execution_count": 35,
   "metadata": {},
   "outputs": [
    {
     "data": {
      "text/plain": "0.9743589743589743"
     },
     "execution_count": 35,
     "metadata": {},
     "output_type": "execute_result"
    }
   ],
   "source": [
    "from sklearn.preprocessing import MaxAbsScaler, MinMaxScaler, StandardScaler\n",
    "\n",
    "\n",
    "def standarize_train_and_test(train_X, test_X):\n",
    "    return \\\n",
    "        MaxAbsScaler().fit(train_X).transform(train_X), \\\n",
    "        MaxAbsScaler().fit(test_X).transform(test_X)\n",
    "    # classification accuracy: 0.97\n",
    "    # return \\\n",
    "    #     MinMaxScaler().fit(train_X).transform(train_X), \\\n",
    "    #     MinMaxScaler().fit(test_X).transform(test_X)\n",
    "    # classification accuracy: 0.92\n",
    "    # return \\\n",
    "    #     StandardScaler().fit(train_X).transform(train_X), \\\n",
    "    #     StandardScaler().fit(test_X).transform(test_X)\n",
    "    # classification accuracy: 0.97\n",
    "\n",
    "norm_train_X, norm_test_X = standarize_train_and_test(train_X, test_X)\n",
    "get_classification_accuracy(norm_train_X, train_Y, norm_test_X, test_Y)"
   ]
  },
  {
   "cell_type": "markdown",
   "metadata": {},
   "source": [
    "# 5. Choosing k value\n",
    "Using obtained in previous exercices train set with normalization/standarization use k-nn algoritm using k from 1 to 20. Use 5-fold cross-validation within the train set to obtain the classification accuracy. Plot the obtained accuracy of the classification. Which k value seems to be the best for the given dataset?\n",
    "\n",
    "See https://scikit-learn.org/stable/modules/generated/sklearn.model_selection.cross_validate.html for more info about cross validation in sklearn."
   ]
  },
  {
   "cell_type": "code",
   "execution_count": 40,
   "metadata": {},
   "outputs": [
    {
     "data": {
      "text/plain": "Text(0, 0.5, 'acc')"
     },
     "execution_count": 40,
     "metadata": {},
     "output_type": "execute_result"
    },
    {
     "data": {
      "text/plain": "<Figure size 432x288 with 1 Axes>",
      "image/png": "[encoded data removed]"
     },
     "metadata": {
      "needs_background": "light"
     },
     "output_type": "display_data"
    }
   ],
   "source": [
    "ks = [x for x in range(1, 21)]\n",
    "accs = []\n",
    "for k in ks:\n",
    "    acc = get_classification_accuracy(norm_train_X, train_Y, norm_test_X, test_Y, k=k)\n",
    "    accs.append(acc)\n",
    "plt.plot(ks, accs)\n",
    "plt.xlabel('k')\n",
    "plt.ylabel('acc')"
   ]
  },
  {
   "cell_type": "markdown",
   "metadata": {},
   "source": [
    "# 6. Testing classifier\n",
    "Train the k-NN classifier again and test it using the obtained best k value on a test set to check the final classification accuracy. You can just call the previous written function get_classification_accuracy)"
   ]
  },
  {
   "cell_type": "code",
   "execution_count": null,
   "metadata": {},
   "outputs": [],
   "source": [
    "# TODO\n",
    "# get_classification_accuracy(..."
   ]
  },
  {
   "cell_type": "markdown",
   "metadata": {},
   "source": [
    "# 7. Homework\n",
    "You are given a dataset containing information about 1600 red wines (winequality.csv) containing 11 attributes and assignment to one of the three wine quality classess: \"poor\", \"medium\" and \"good\". Perform a preprocessing of this dataset (normalization, standardization). Divide this set into the train and test sets. Choose experimentally the best value of k (using cross-validation) and perform classification using the  k-nn algoritm with the chosen k value. Write a report containing information about the used preprocessing methods, chosen train/test split method (percentage of examples in train/test sets, if shuffling or stratification used), plot of the accuracy depending of k parameter, finally chosen k and obtained classification accuracy on a test set.\n",
    "\n",
    "**Deadline +2 weeks**\n",
    "    \n",
    "    "
   ]
  },
  {
   "cell_type": "code",
   "execution_count": null,
   "metadata": {},
   "outputs": [],
   "source": []
  }
 ],
 "metadata": {
  "kernelspec": {
   "display_name": "Python 3",
   "language": "python",
   "name": "python3"
  },
  "language_info": {
   "codemirror_mode": {
    "name": "ipython",
    "version": 3
   },
   "file_extension": ".py",
   "mimetype": "text/x-python",
   "name": "python",
   "nbconvert_exporter": "python",
   "pygments_lexer": "ipython3",
   "version": "3.6.9"
  }
 },
 "nbformat": 4,
 "nbformat_minor": 4
}